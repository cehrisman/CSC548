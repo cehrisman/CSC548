{
 "cells": [
  {
   "cell_type": "code",
   "execution_count": 1,
   "id": "c644f0ee",
   "metadata": {},
   "outputs": [],
   "source": [
    "import numpy as np\n",
    "# to make this notebook's output stable across runs\n",
    "np.random.seed(42)\n",
    "# To plot pretty figures\n",
    "import matplotlib.pyplot as plt"
   ]
  },
  {
   "cell_type": "code",
   "execution_count": 2,
   "id": "78295d30",
   "metadata": {},
   "outputs": [],
   "source": [
    "# Create 100 random points 0<X<2, y=3*x+4 +random noise\n",
    "m = 100\n",
    "X = 2 * np.random.rand(m, 1)\n",
    "y = 4 + 3 * X + np.random.randn(m, 1)  # "
   ]
  },
  {
   "cell_type": "code",
   "execution_count": 3,
   "id": "334e9b45",
   "metadata": {},
   "outputs": [
    {
     "data": {
      "image/png": "[encoded data removed]",
      "text/plain": [
       "<Figure size 432x288 with 1 Axes>"
      ]
     },
     "metadata": {
      "needs_background": "light"
     },
     "output_type": "display_data"
    }
   ],
   "source": [
    "plt.plot(X, y, \"b.\")\n",
    "plt.xlabel(\"$x_1$\", fontsize=18)\n",
    "plt.ylabel(\"$y$\", rotation=0, fontsize=18)\n",
    "plt.axis([0, 2, 0, 15])\n",
    "plt.show()"
   ]
  },
  {
   "cell_type": "code",
   "execution_count": 11,
   "id": "29e16317",
   "metadata": {},
   "outputs": [
    {
     "name": "stdout",
     "output_type": "stream",
     "text": [
      "[[0.74908024]\n",
      " [1.90142861]\n",
      " [1.46398788]\n",
      " [1.19731697]\n",
      " [0.31203728]\n",
      " [0.31198904]\n",
      " [0.11616722]\n",
      " [1.73235229]\n",
      " [1.20223002]\n",
      " [1.41614516]\n",
      " [0.04116899]\n",
      " [1.9398197 ]\n",
      " [1.66488528]\n",
      " [0.42467822]\n",
      " [0.36364993]\n",
      " [0.36680902]\n",
      " [0.60848449]\n",
      " [1.04951286]\n",
      " [0.86389004]\n",
      " [0.58245828]\n",
      " [1.22370579]\n",
      " [0.27898772]\n",
      " [0.5842893 ]\n",
      " [0.73272369]\n",
      " [0.91213997]\n",
      " [1.57035192]\n",
      " [0.39934756]\n",
      " [1.02846888]\n",
      " [1.18482914]\n",
      " [0.09290083]\n",
      " [1.2150897 ]\n",
      " [0.34104825]\n",
      " [0.13010319]\n",
      " [1.89777107]\n",
      " [1.93126407]\n",
      " [1.6167947 ]\n",
      " [0.60922754]\n",
      " [0.19534423]\n",
      " [1.36846605]\n",
      " [0.88030499]\n",
      " [0.24407647]\n",
      " [0.99035382]\n",
      " [0.06877704]\n",
      " [1.8186408 ]\n",
      " [0.51755996]\n",
      " [1.32504457]\n",
      " [0.62342215]\n",
      " [1.04013604]\n",
      " [1.09342056]\n",
      " [0.36970891]\n",
      " [1.93916926]\n",
      " [1.55026565]\n",
      " [1.87899788]\n",
      " [1.7896547 ]\n",
      " [1.19579996]\n",
      " [1.84374847]\n",
      " [0.176985  ]\n",
      " [0.39196572]\n",
      " [0.09045458]\n",
      " [0.65066066]\n",
      " [0.77735458]\n",
      " [0.54269806]\n",
      " [1.65747502]\n",
      " [0.71350665]\n",
      " [0.56186902]\n",
      " [1.08539217]\n",
      " [0.28184845]\n",
      " [1.60439396]\n",
      " [0.14910129]\n",
      " [1.97377387]\n",
      " [1.54448954]\n",
      " [0.39743136]\n",
      " [0.01104423]\n",
      " [1.63092286]\n",
      " [1.41371469]\n",
      " [1.45801434]\n",
      " [1.54254069]\n",
      " [0.1480893 ]\n",
      " [0.71693146]\n",
      " [0.23173812]\n",
      " [1.72620685]\n",
      " [1.24659625]\n",
      " [0.66179605]\n",
      " [0.1271167 ]\n",
      " [0.62196464]\n",
      " [0.65036664]\n",
      " [1.45921236]\n",
      " [1.27511494]\n",
      " [1.77442549]\n",
      " [0.94442985]\n",
      " [0.23918849]\n",
      " [1.42648957]\n",
      " [1.5215701 ]\n",
      " [1.1225544 ]\n",
      " [1.54193436]\n",
      " [0.98759119]\n",
      " [1.04546566]\n",
      " [0.85508204]\n",
      " [0.05083825]\n",
      " [0.21578285]]\n",
      "[[0.74908024 1.        ]\n",
      " [1.90142861 1.        ]\n",
      " [1.46398788 1.        ]\n",
      " [1.19731697 1.        ]\n",
      " [0.31203728 1.        ]\n",
      " [0.31198904 1.        ]\n",
      " [0.11616722 1.        ]\n",
      " [1.73235229 1.        ]\n",
      " [1.20223002 1.        ]\n",
      " [1.41614516 1.        ]\n",
      " [0.04116899 1.        ]\n",
      " [1.9398197  1.        ]\n",
      " [1.66488528 1.        ]\n",
      " [0.42467822 1.        ]\n",
      " [0.36364993 1.        ]\n",
      " [0.36680902 1.        ]\n",
      " [0.60848449 1.        ]\n",
      " [1.04951286 1.        ]\n",
      " [0.86389004 1.        ]\n",
      " [0.58245828 1.        ]\n",
      " [1.22370579 1.        ]\n",
      " [0.27898772 1.        ]\n",
      " [0.5842893  1.        ]\n",
      " [0.73272369 1.        ]\n",
      " [0.91213997 1.        ]\n",
      " [1.57035192 1.        ]\n",
      " [0.39934756 1.        ]\n",
      " [1.02846888 1.        ]\n",
      " [1.18482914 1.        ]\n",
      " [0.09290083 1.        ]\n",
      " [1.2150897  1.        ]\n",
      " [0.34104825 1.        ]\n",
      " [0.13010319 1.        ]\n",
      " [1.89777107 1.        ]\n",
      " [1.93126407 1.        ]\n",
      " [1.6167947  1.        ]\n",
      " [0.60922754 1.        ]\n",
      " [0.19534423 1.        ]\n",
      " [1.36846605 1.        ]\n",
      " [0.88030499 1.        ]\n",
      " [0.24407647 1.        ]\n",
      " [0.99035382 1.        ]\n",
      " [0.06877704 1.        ]\n",
      " [1.8186408  1.        ]\n",
      " [0.51755996 1.        ]\n",
      " [1.32504457 1.        ]\n",
      " [0.62342215 1.        ]\n",
      " [1.04013604 1.        ]\n",
      " [1.09342056 1.        ]\n",
      " [0.36970891 1.        ]\n",
      " [1.93916926 1.        ]\n",
      " [1.55026565 1.        ]\n",
      " [1.87899788 1.        ]\n",
      " [1.7896547  1.        ]\n",
      " [1.19579996 1.        ]\n",
      " [1.84374847 1.        ]\n",
      " [0.176985   1.        ]\n",
      " [0.39196572 1.        ]\n",
      " [0.09045458 1.        ]\n",
      " [0.65066066 1.        ]\n",
      " [0.77735458 1.        ]\n",
      " [0.54269806 1.        ]\n",
      " [1.65747502 1.        ]\n",
      " [0.71350665 1.        ]\n",
      " [0.56186902 1.        ]\n",
      " [1.08539217 1.        ]\n",
      " [0.28184845 1.        ]\n",
      " [1.60439396 1.        ]\n",
      " [0.14910129 1.        ]\n",
      " [1.97377387 1.        ]\n",
      " [1.54448954 1.        ]\n",
      " [0.39743136 1.        ]\n",
      " [0.01104423 1.        ]\n",
      " [1.63092286 1.        ]\n",
      " [1.41371469 1.        ]\n",
      " [1.45801434 1.        ]\n",
      " [1.54254069 1.        ]\n",
      " [0.1480893  1.        ]\n",
      " [0.71693146 1.        ]\n",
      " [0.23173812 1.        ]\n",
      " [1.72620685 1.        ]\n",
      " [1.24659625 1.        ]\n",
      " [0.66179605 1.        ]\n",
      " [0.1271167  1.        ]\n",
      " [0.62196464 1.        ]\n",
      " [0.65036664 1.        ]\n",
      " [1.45921236 1.        ]\n",
      " [1.27511494 1.        ]\n",
      " [1.77442549 1.        ]\n",
      " [0.94442985 1.        ]\n",
      " [0.23918849 1.        ]\n",
      " [1.42648957 1.        ]\n",
      " [1.5215701  1.        ]\n",
      " [1.1225544  1.        ]\n",
      " [1.54193436 1.        ]\n",
      " [0.98759119 1.        ]\n",
      " [1.04546566 1.        ]\n",
      " [0.85508204 1.        ]\n",
      " [0.05083825 1.        ]\n",
      " [0.21578285 1.        ]]\n"
     ]
    }
   ],
   "source": [
    "print(X)\n",
    "print(np.c_[X, np.ones((m, 1))])"
   ]
  },
  {
   "cell_type": "code",
   "execution_count": 4,
   "id": "72214e29",
   "metadata": {},
   "outputs": [
    {
     "name": "stdout",
     "output_type": "stream",
     "text": [
      "[[2.77011339]\n",
      " [4.21509616]]\n"
     ]
    }
   ],
   "source": [
    "X_b = np.c_[X, np.ones((m, 1))]  # add x1 = 1 to each instance\n",
    "w_best = np.linalg.inv(X_b.T.dot(X_b)).dot(X_b.T).dot(y)\n",
    "print(w_best)"
   ]
  },
  {
   "cell_type": "code",
   "execution_count": 5,
   "id": "2273f213",
   "metadata": {},
   "outputs": [
    {
     "name": "stdout",
     "output_type": "stream",
     "text": [
      "[[ 0.02853394 -0.02683222]\n",
      " [-0.02683222  0.03523199]]\n"
     ]
    }
   ],
   "source": [
    "A = np.linalg.inv(X_b.T.dot(X_b))\n",
    "print(A)"
   ]
  },
  {
   "cell_type": "code",
   "execution_count": 6,
   "id": "7283cf06",
   "metadata": {},
   "outputs": [
    {
     "name": "stdout",
     "output_type": "stream",
     "text": [
      "[[4.21509616]\n",
      " [9.75532293]]\n"
     ]
    }
   ],
   "source": [
    "X_new = np.array([[0], [2]])\n",
    "X_new_b = np.c_[X_new, np.ones((2, 1))]  # add x1 = 1 to each instance\n",
    "y_predict = X_new_b.dot(w_best)\n",
    "print(y_predict)"
   ]
  },
  {
   "cell_type": "code",
   "execution_count": 7,
   "id": "e3d384ca",
   "metadata": {},
   "outputs": [
    {
     "data": {
      "image/png": "[encoded data removed]",
      "text/plain": [
       "<Figure size 432x288 with 1 Axes>"
      ]
     },
     "metadata": {
      "needs_background": "light"
     },
     "output_type": "display_data"
    }
   ],
   "source": [
    "plt.plot(X_new, y_predict, \"r-\", linewidth=2, label=\"Predictions\")\n",
    "plt.plot(X, y, \"b.\")\n",
    "plt.xlabel(\"$x_1$\", fontsize=18)\n",
    "plt.ylabel(\"$y$\", rotation=0, fontsize=18)\n",
    "plt.legend(loc=\"upper left\", fontsize=14)\n",
    "plt.axis([0, 2, 0, 15])\n",
    "plt.show()"
   ]
  },
  {
   "cell_type": "code",
   "execution_count": 8,
   "id": "4b5d6320",
   "metadata": {},
   "outputs": [
    {
     "name": "stdout",
     "output_type": "stream",
     "text": [
      "[[2.77011339]\n",
      " [4.21509616]]\n"
     ]
    }
   ],
   "source": [
    "print(np.linalg.pinv(X_b).dot(y))"
   ]
  },
  {
   "cell_type": "code",
   "execution_count": 9,
   "id": "d74dda94",
   "metadata": {},
   "outputs": [
    {
     "name": "stdout",
     "output_type": "stream",
     "text": [
      "[4.21509616] [[2.77011339]]\n",
      "[[4.21509616]\n",
      " [9.75532293]]\n"
     ]
    }
   ],
   "source": [
    "from sklearn.linear_model import LinearRegression\n",
    "lin_reg = LinearRegression()\n",
    "lin_reg.fit(X, y)\n",
    "print(lin_reg.intercept_, lin_reg.coef_)\n",
    "print(lin_reg.predict(X_new))"
   ]
  },
  {
   "cell_type": "code",
   "execution_count": null,
   "id": "c5360ec9",
   "metadata": {},
   "outputs": [],
   "source": []
  }
 ],
 "metadata": {
  "kernelspec": {
   "display_name": "Python 3 (ipykernel)",
   "language": "python",
   "name": "python3"
  },
  "language_info": {
   "codemirror_mode": {
    "name": "ipython",
    "version": 3
   },
   "file_extension": ".py",
   "mimetype": "text/x-python",
   "name": "python",
   "nbconvert_exporter": "python",
   "pygments_lexer": "ipython3",
   "version": "3.8.16"
  }
 },
 "nbformat": 4,
 "nbformat_minor": 5
}
